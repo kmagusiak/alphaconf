{
 "cells": [
  {
   "cell_type": "markdown",
   "metadata": {},
   "source": [
    "# alphaconf - demo\n",
    "\n",
    "Running the application."
   ]
  },
  {
   "cell_type": "code",
   "execution_count": null,
   "metadata": {
    "tags": []
   },
   "outputs": [],
   "source": [
    "# Show the application help\n",
    "!./example-simple.py --help"
   ]
  },
  {
   "cell_type": "code",
   "execution_count": null,
   "metadata": {},
   "outputs": [],
   "source": [
    "# Show the configuration, load a file before and set a configuration value\n",
    "!./example-simple.py -f example-config.yaml arg=name -C"
   ]
  },
  {
   "cell_type": "code",
   "execution_count": null,
   "metadata": {},
   "outputs": [],
   "source": [
    "# Using templates\n",
    "!./example-simple.py --select logging=none"
   ]
  },
  {
   "cell_type": "code",
   "execution_count": null,
   "metadata": {},
   "outputs": [],
   "source": [
    "# Invoke integration\n",
    "!python ./example-inv.py 'logging.formatters.default.format=\"%(levelname)s %(message)s\"' backup=me doit --param 4"
   ]
  }
 ],
 "metadata": {
  "interpreter": {
   "hash": "db1608bc29329c0e21eb6af59afbab557622777cbb684d0d7cfb2095c36b0a7d"
  },
  "kernelspec": {
   "display_name": "Python 3.8.10 ('pyenv')",
   "language": "python",
   "name": "python3"
  },
  "language_info": {
   "codemirror_mode": {
    "name": "ipython",
    "version": 3
   },
   "file_extension": ".py",
   "mimetype": "text/x-python",
   "name": "python",
   "nbconvert_exporter": "python",
   "pygments_lexer": "ipython3",
   "version": "3.11.8"
  },
  "orig_nbformat": 2
 },
 "nbformat": 4,
 "nbformat_minor": 2
}
