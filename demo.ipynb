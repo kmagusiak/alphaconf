{
 "cells": [
  {
   "cell_type": "markdown",
   "metadata": {},
   "source": [
    "# alphaconf - demo\n",
    "\n",
    "Running the application."
   ]
  },
  {
   "cell_type": "code",
   "execution_count": 1,
   "metadata": {},
   "outputs": [
    {
     "name": "stdout",
     "output_type": "stream",
     "text": [
      "example [arguments]\n",
      "\n",
      "  -h | --help                   Print help message\n",
      "  -V | --version                Print the version\n",
      "  -C | --configuration          Show the configuration\n",
      "  -f | --config[-file] path     Load configuration from file\n",
      "  --select key=base_template    Shortcut to select a base configuration\n",
      "  key=value                     Load a configuration key-value\n"
     ]
    }
   ],
   "source": [
    "# Show the application help\n",
    "!./example-simple.py -h"
   ]
  },
  {
   "cell_type": "code",
   "execution_count": 2,
   "metadata": {},
   "outputs": [
    {
     "name": "stdout",
     "output_type": "stream",
     "text": [
      "logging:\n",
      "  version: 1\n",
      "  formatters:\n",
      "    simple:\n",
      "      format: '%(asctime)s %(levelname)s %(name)s: %(message)s'\n",
      "      datefmt: '%H:%M:%S'\n",
      "    default:\n",
      "      format: '%(asctime)s %(levelname)s %(name)s [%(process)s,%(threadName)s]: %(message)s'\n",
      "    color:\n",
      "      class: alphaconf.log_util.ColorFormatter\n",
      "      format: ${..default.format}\n",
      "    json:\n",
      "      class: alphaconf.log_util.JSONFormatter\n",
      "  handlers:\n",
      "    console:\n",
      "      class: logging.StreamHandler\n",
      "      formatter: color\n",
      "      stream: ext://sys.stdout\n",
      "  root:\n",
      "    handlers:\n",
      "    - console\n",
      "    level: WARNING\n",
      "base:\n",
      "  logging:\n",
      "  - default\n",
      "  - none\n",
      "server:\n",
      "  url: http://default\n",
      "  user: ${oc.env:USER}\n",
      "application:\n",
      "  name: example\n",
      "  version: '0.1'\n",
      "  uuid: eb5b3313-26d3-43fb-b6db-3f4a8b814280\n",
      "example: config\n",
      "arg: name\n",
      "\n"
     ]
    }
   ],
   "source": [
    "# Show the configuration, load a file before and set a configuration\n",
    "!./example-simple.py -f example-config.yaml arg=name -C"
   ]
  },
  {
   "cell_type": "code",
   "execution_count": 3,
   "metadata": {},
   "outputs": [
    {
     "name": "stdout",
     "output_type": "stream",
     "text": [
      "INFO \u001b[32mApplication start (example-inv: InvokeApplication.run.<locals>.run_program)\u001b[0m\n",
      "INFO \u001b[32mHello\u001b[0m\n",
      "INFO \u001b[32mbackup me\u001b[0m\n",
      "INFO \u001b[32mApplication end.\u001b[0m\n",
      "\u001b[0m"
     ]
    }
   ],
   "source": [
    "# Invoke integration\n",
    "!./example-inv.py 'logging.formatters.default.format=\"%(levelname)s %(message)s\"' backup=me doit"
   ]
  }
 ],
 "metadata": {
  "interpreter": {
   "hash": "a0264a6efa1cfcde0a4ecd2fc31cc63f6fa7400329e06b3ae41e8ae9517682b2"
  },
  "kernelspec": {
   "display_name": "Python 3.8.5 64-bit ('pyenv': venv)",
   "name": "python3"
  },
  "language_info": {
   "codemirror_mode": {
    "name": "ipython",
    "version": 3
   },
   "file_extension": ".py",
   "mimetype": "text/x-python",
   "name": "python",
   "nbconvert_exporter": "python",
   "pygments_lexer": "ipython3",
   "version": "3.8.10"
  },
  "orig_nbformat": 2
 },
 "nbformat": 4,
 "nbformat_minor": 2
}
