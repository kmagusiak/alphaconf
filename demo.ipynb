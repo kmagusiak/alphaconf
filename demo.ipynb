{
 "cells": [
  {
   "cell_type": "markdown",
   "metadata": {},
   "source": [
    "# alphaconf - demo\n",
    "\n",
    "Running the application."
   ]
  },
  {
   "cell_type": "code",
   "execution_count": 1,
   "metadata": {},
   "outputs": [
    {
     "name": "stdout",
     "output_type": "stream",
     "text": [
      "(result=<alphaconf.arg_parser.HelpAction object at 0x7ff793bb30a0>, config=[], rest=[])\n"
     ]
    }
   ],
   "source": [
    "# Show the application help\n",
    "!./example-simple.py -h"
   ]
  },
  {
   "cell_type": "code",
   "execution_count": 2,
   "metadata": {},
   "outputs": [
    {
     "name": "stdout",
     "output_type": "stream",
     "text": [
      "Traceback (most recent call last):\n",
      "  File \"./example-simple.py\", line 39, in <module>\n",
      "    alphaconf.Application(\n",
      "  File \"/home/k/alphaconf/alphaconf/__init__.py\", line 352, in run\n",
      "    self.setup_configuration(arguments, **configuration)\n",
      "  File \"/home/k/alphaconf/alphaconf/__init__.py\", line 244, in setup_configuration\n",
      "    self.parsed = self.argument_parser.parse_args(arguments)\n",
      "  File \"/home/k/alphaconf/alphaconf/arg_parser.py\", line 175, in parse_args\n",
      "    action_result = self._result_handle(action.handle(result, value))\n",
      "  File \"/home/k/alphaconf/alphaconf/arg_parser.py\", line 144, in _result_handle\n",
      "    raise ArgumentError(result)\n",
      "alphaconf.arg_parser.ArgumentError: Missing filename for configuration file\n"
     ]
    }
   ],
   "source": [
    "# Show the configuration, load a file before and set a configuration value\n",
    "!./example-simple.py -f example-config.yaml arg=name -C"
   ]
  },
  {
   "cell_type": "code",
   "execution_count": 3,
   "metadata": {},
   "outputs": [
    {
     "name": "stdout",
     "output_type": "stream",
     "text": [
      "Traceback (most recent call last):\n",
      "  File \"./example-inv.py\", line 25, in <module>\n",
      "    alphaconf.invoke.invoke_application(__name__, ns)\n",
      "  File \"/home/k/alphaconf/alphaconf/invoke.py\", line 56, in invoke_application\n",
      "    app = InvokeApplication(**properties)\n",
      "  File \"/home/k/alphaconf/alphaconf/invoke.py\", line 25, in __init__\n",
      "    self._arg_parser = InvokeArgumentParser(self._arg_parser.app_properties)\n",
      "AttributeError: 'InvokeApplication' object has no attribute '_arg_parser'\n"
     ]
    }
   ],
   "source": [
    "# Invoke integration\n",
    "!python ./example-inv.py 'logging.formatters.default.format=\"%(levelname)s %(message)s\"' backup=me doit"
   ]
  },
  {
   "cell_type": "code",
   "execution_count": 4,
   "metadata": {},
   "outputs": [
    {
     "name": "stdout",
     "output_type": "stream",
     "text": [
      "Traceback (most recent call last):\n",
      "  File \"./example-simple.py\", line 39, in <module>\n",
      "    alphaconf.Application(\n",
      "  File \"/home/k/alphaconf/alphaconf/__init__.py\", line 352, in run\n",
      "    self.setup_configuration(arguments, **configuration)\n",
      "  File \"/home/k/alphaconf/alphaconf/__init__.py\", line 244, in setup_configuration\n",
      "    self.parsed = self.argument_parser.parse_args(arguments)\n",
      "  File \"/home/k/alphaconf/alphaconf/arg_parser.py\", line 175, in parse_args\n",
      "    action_result = self._result_handle(action.handle(result, value))\n",
      "  File \"/home/k/alphaconf/alphaconf/arg_parser.py\", line 93, in handle\n",
      "    key, value = split(value)\n",
      "  File \"/home/k/alphaconf/alphaconf/arg_parser.py\", line 8, in split\n",
      "    vs = value.split(char, 1)\n",
      "AttributeError: 'NoneType' object has no attribute 'split'\n"
     ]
    }
   ],
   "source": [
    "# Using templates\n",
    "!./example-simple.py --select logging=none"
   ]
  }
 ],
 "metadata": {
  "interpreter": {
   "hash": "db1608bc29329c0e21eb6af59afbab557622777cbb684d0d7cfb2095c36b0a7d"
  },
  "kernelspec": {
   "display_name": "Python 3.8.10 ('pyenv')",
   "language": "python",
   "name": "python3"
  },
  "language_info": {
   "codemirror_mode": {
    "name": "ipython",
    "version": 3
   },
   "file_extension": ".py",
   "mimetype": "text/x-python",
   "name": "python",
   "nbconvert_exporter": "python",
   "pygments_lexer": "ipython3",
   "version": "3.8.10"
  },
  "orig_nbformat": 2
 },
 "nbformat": 4,
 "nbformat_minor": 2
}
