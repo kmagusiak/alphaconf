{
 "cells": [
  {
   "cell_type": "markdown",
   "metadata": {},
   "source": [
    "# alphaconf - demo\n",
    "\n",
    "Running the application."
   ]
  },
  {
   "cell_type": "code",
   "execution_count": 1,
   "metadata": {
    "tags": []
   },
   "outputs": [
    {
     "name": "stdout",
     "output_type": "stream",
     "text": [
      "usage: example [arguments] [key=value ...]\n",
      "\n",
      "Simple demo of alphaconf\n",
      "\n",
      "options:\n",
      "  -h, --help                  Show the help\n",
      "  -V, --version               Show the version\n",
      "  -C, --configuration         Show the configuration\n",
      "  -f, --config, --config-file path \n",
      "                              Load configuration from file\n",
      "  --select key=base_template  Shortcut to select a base configuration\n",
      "\n",
      "positional arguments:\n",
      "  key=value                   Configuration items\n",
      "  server                      Arguments for the demo\n",
      "  show                        The name of the selection to show\n",
      "  exception                   If set, raise an exception\n",
      "\u001b[0m"
     ]
    }
   ],
   "source": [
    "# Show the application help\n",
    "!./example-simple.py -h"
   ]
  },
  {
   "cell_type": "code",
   "execution_count": 2,
   "metadata": {},
   "outputs": [
    {
     "name": "stdout",
     "output_type": "stream",
     "text": [
      "logging:\n",
      "  version: 1\n",
      "  formatters:\n",
      "    simple:\n",
      "      format: '%(asctime)s %(levelname)s %(name)s: %(message)s'\n",
      "      datefmt: '%H:%M:%S'\n",
      "    default:\n",
      "      format: '%(asctime)s %(levelname)s %(name)s [%(process)s,%(threadName)s]: %(message)s'\n",
      "    color:\n",
      "      class: alphaconf.logging_util.ColorFormatter\n",
      "      format: ${..default.format}\n",
      "    json:\n",
      "      class: alphaconf.logging_util.JSONFormatter\n",
      "  handlers:\n",
      "    console:\n",
      "      class: logging.StreamHandler\n",
      "      formatter: color\n",
      "      stream: ext://sys.stdout\n",
      "  root:\n",
      "    handlers:\n",
      "    - console\n",
      "    level: WARNING\n",
      "  disable_existing_loggers: false\n",
      "base:\n",
      "  logging:\n",
      "  - default\n",
      "  - none\n",
      "server:\n",
      "  url: http://default\n",
      "  user: ${oc.env:USER}\n",
      "  home: '~'\n",
      "show: false\n",
      "exception: false\n",
      "application:\n",
      "  name: example\n",
      "  version: '0.1'\n",
      "example: config\n",
      "arg: name\n",
      "\n",
      "\u001b[0m"
     ]
    }
   ],
   "source": [
    "# Show the configuration, load a file before and set a configuration value\n",
    "!./example-simple.py -f example-config.yaml arg=name -C"
   ]
  },
  {
   "cell_type": "code",
   "execution_count": 3,
   "metadata": {},
   "outputs": [
    {
     "name": "stdout",
     "output_type": "stream",
     "text": [
      "app: example\n",
      "server.user: k\n",
      "server.home /home/k\n",
      "INFO:root:['init'] The app is running...\n",
      "INFO:root:Just a log\n",
      "INFO:root:['finished'] Application end.\n",
      "\u001b[0m"
     ]
    }
   ],
   "source": [
    "# Using templates\n",
    "!./example-simple.py --select logging=none"
   ]
  },
  {
   "cell_type": "code",
   "execution_count": 4,
   "metadata": {},
   "outputs": [
    {
     "name": "stdout",
     "output_type": "stream",
     "text": [
      "INFO \u001b[32mApplication start (example-inv: InvokeApplication.run_program)\u001b[0m\n",
      "INFO \u001b[32mHello\u001b[0m\n",
      "INFO \u001b[32mBackup: me\u001b[0m\n",
      "INFO \u001b[32mParam: [4] and in alphaconf [4]\u001b[0m\n",
      "INFO \u001b[32mApplication end.\u001b[0m\n",
      "\u001b[0m"
     ]
    }
   ],
   "source": [
    "# Invoke integration\n",
    "!python ./example-inv.py 'logging.formatters.default.format=\"%(levelname)s %(message)s\"' backup=me doit --param 4"
   ]
  }
 ],
 "metadata": {
  "interpreter": {
   "hash": "db1608bc29329c0e21eb6af59afbab557622777cbb684d0d7cfb2095c36b0a7d"
  },
  "kernelspec": {
   "display_name": "Python 3.8.10 ('pyenv')",
   "language": "python",
   "name": "python3"
  },
  "language_info": {
   "codemirror_mode": {
    "name": "ipython",
    "version": 3
   },
   "file_extension": ".py",
   "mimetype": "text/x-python",
   "name": "python",
   "nbconvert_exporter": "python",
   "pygments_lexer": "ipython3",
   "version": "3.8.10"
  },
  "orig_nbformat": 2
 },
 "nbformat": 4,
 "nbformat_minor": 2
}
